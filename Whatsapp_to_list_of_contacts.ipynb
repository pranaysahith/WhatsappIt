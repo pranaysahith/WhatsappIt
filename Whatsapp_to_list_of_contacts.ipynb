{
 "cells": [
  {
   "cell_type": "code",
   "execution_count": 28,
   "metadata": {
    "collapsed": true
   },
   "outputs": [],
   "source": [
    "def send_image(contact):\n",
    "    driver.get(\"http://web.whatsapp.com\")\n",
    "    wait = ui.WebDriverWait(driver, 15)\n",
    "    time.sleep(5)\n",
    "    driver.implicitly_wait(5) # seconds\n",
    "    search=driver.find_elements_by_css_selector(\"#side > div.search-container > div > label > input\")\n",
    "    searchbox=search[0]\n",
    "    searchbox.send_keys(contact)\n",
    "    time.sleep(5) # seconds\n",
    "    #driver.implicitly_wait(5) # seconds\n",
    "    name=driver.find_elements_by_css_selector(\"#pane-side > div > div > div > div > div > div > div.chat-body\")\n",
    "    try:\n",
    "        name[0].click()\n",
    "    except:\n",
    "        searchbox.clear()\n",
    "        return\n",
    "    attach_icon = driver.find_element_by_xpath('//*[@title=\"Attach\"]')\n",
    "    attach_icon.click()\n",
    "    driver.implicitly_wait(5) # seconds\n",
    "    imageicon = driver.find_element_by_tag_name(\"li\")\n",
    "    imageicon.click()"
   ]
  },
  {
   "cell_type": "code",
   "execution_count": 29,
   "metadata": {
    "collapsed": false
   },
   "outputs": [],
   "source": [
    "#broadcast message to list of names in a file.\n",
    "import os\n",
    "import sqlite3\n",
    "from selenium import webdriver\n",
    "import selenium.webdriver.support.ui as ui\n",
    "import time\n",
    "driver = webdriver.Firefox()\n",
    "def ping(contact,message=\"Here, your default message.\"):\n",
    "    time.sleep(5)\n",
    "    driver.implicitly_wait(5) # seconds\n",
    "    search=driver.find_elements_by_css_selector(\"#side > div.search-container > div > label > input\")\n",
    "    searchbox=search[0]\n",
    "    searchbox.send_keys(contact)\n",
    "    time.sleep(5) # seconds\n",
    "    #driver.implicitly_wait(5) # seconds\n",
    "    name=driver.find_elements_by_css_selector(\"#pane-side > div > div > div > div > div > div > div.chat-body\")\n",
    "    try:\n",
    "        name[0].click()\n",
    "    except:\n",
    "        searchbox.clear()\n",
    "        return\n",
    "    text=driver.find_element_by_css_selector(\"#main > footer > div > div.input-container > div > div.input\")\n",
    "    text.send_keys(message)\n",
    "    text.send_keys(\"\\n\")\n",
    "\n",
    "def ping_from_contacts(contacts = \"contacts.txt\",ln = -1):\n",
    "    \n",
    "    \n",
    "    driver.get(\"http://web.whatsapp.com\")\n",
    "    wait = ui.WebDriverWait(driver, 15)\n",
    "    with open(contacts,'r') as c:\n",
    "        print \"1\"\n",
    "        i = 0\n",
    "        for i , line in enumerate(c):\n",
    "            print \"2\"\n",
    "            if i > ln:\n",
    "                print \"3\"\n",
    "                contact = line.split(',')[0].strip()\n",
    "                try:\n",
    "                    message = line.split(',')[1].strip()\n",
    "                    ping(contact,message)\n",
    "                except:\n",
    "                    message = None\n",
    "                    ping(contact)\n",
    "                \n"
   ]
  },
  {
   "cell_type": "code",
   "execution_count": 30,
   "metadata": {
    "collapsed": false
   },
   "outputs": [
    {
     "ename": "InvalidSelectorException",
     "evalue": "Message: The given selector icon-xl icon-image is either invalid or does not result in a WebElement. The following error occurred:\nInvalidSelectorError: Compound class names not permitted\nStacktrace:\n    at FirefoxDriver.annotateInvalidSelectorError_ (file:///tmp/tmpgQxFNO/extensions/fxdriver@googlecode.com/components/driver-component.js:10744)\n    at FirefoxDriver.prototype.findElementInternal_ (file:///tmp/tmpgQxFNO/extensions/fxdriver@googlecode.com/components/driver-component.js:10775)\n    at FirefoxDriver.prototype.findElement (file:///tmp/tmpgQxFNO/extensions/fxdriver@googlecode.com/components/driver-component.js:10779)\n    at DelayedCommand.prototype.executeInternal_/h (file:///tmp/tmpgQxFNO/extensions/fxdriver@googlecode.com/components/command-processor.js:12661)\n    at DelayedCommand.prototype.executeInternal_ (file:///tmp/tmpgQxFNO/extensions/fxdriver@googlecode.com/components/command-processor.js:12666)\n    at DelayedCommand.prototype.execute/< (file:///tmp/tmpgQxFNO/extensions/fxdriver@googlecode.com/components/command-processor.js:12608)",
     "output_type": "error",
     "traceback": [
      "\u001b[1;31m---------------------------------------------------------------------------\u001b[0m",
      "\u001b[1;31mInvalidSelectorException\u001b[0m                  Traceback (most recent call last)",
      "\u001b[1;32m<ipython-input-30-78dc23d267d8>\u001b[0m in \u001b[0;36m<module>\u001b[1;34m()\u001b[0m\n\u001b[0;32m      1\u001b[0m \u001b[1;31m#ping_from_contacts()\u001b[0m\u001b[1;33m\u001b[0m\u001b[1;33m\u001b[0m\u001b[0m\n\u001b[1;32m----> 2\u001b[1;33m \u001b[0msend_image\u001b[0m\u001b[1;33m(\u001b[0m\u001b[1;34m\"gurunath\"\u001b[0m\u001b[1;33m)\u001b[0m\u001b[1;33m\u001b[0m\u001b[0m\n\u001b[0m",
      "\u001b[1;32m<ipython-input-28-18090d824f71>\u001b[0m in \u001b[0;36msend_image\u001b[1;34m(contact)\u001b[0m\n\u001b[0;32m     18\u001b[0m     \u001b[0miattach\u001b[0m\u001b[1;33m.\u001b[0m\u001b[0mclick\u001b[0m\u001b[1;33m(\u001b[0m\u001b[1;33m)\u001b[0m\u001b[1;33m\u001b[0m\u001b[0m\n\u001b[0;32m     19\u001b[0m     \u001b[0mdriver\u001b[0m\u001b[1;33m.\u001b[0m\u001b[0mimplicitly_wait\u001b[0m\u001b[1;33m(\u001b[0m\u001b[1;36m5\u001b[0m\u001b[1;33m)\u001b[0m \u001b[1;31m# seconds\u001b[0m\u001b[1;33m\u001b[0m\u001b[0m\n\u001b[1;32m---> 20\u001b[1;33m     \u001b[0mimageicon\u001b[0m \u001b[1;33m=\u001b[0m \u001b[0mdriver\u001b[0m\u001b[1;33m.\u001b[0m\u001b[0mfind_element_by_class_name\u001b[0m\u001b[1;33m(\u001b[0m\u001b[1;34m\"icon-xl icon-image\"\u001b[0m\u001b[1;33m)\u001b[0m\u001b[1;33m\u001b[0m\u001b[0m\n\u001b[0m\u001b[0;32m     21\u001b[0m     \u001b[0mimageicon\u001b[0m\u001b[1;33m.\u001b[0m\u001b[0mclick\u001b[0m\u001b[1;33m(\u001b[0m\u001b[1;33m)\u001b[0m\u001b[1;33m\u001b[0m\u001b[0m\n",
      "\u001b[1;32m/root/anaconda/lib/python2.7/site-packages/selenium/webdriver/remote/webdriver.pyc\u001b[0m in \u001b[0;36mfind_element_by_class_name\u001b[1;34m(self, name)\u001b[0m\n\u001b[0;32m    408\u001b[0m             \u001b[0mdriver\u001b[0m\u001b[1;33m.\u001b[0m\u001b[0mfind_element_by_class_name\u001b[0m\u001b[1;33m(\u001b[0m\u001b[1;34m'foo'\u001b[0m\u001b[1;33m)\u001b[0m\u001b[1;33m\u001b[0m\u001b[0m\n\u001b[0;32m    409\u001b[0m         \"\"\"\n\u001b[1;32m--> 410\u001b[1;33m         \u001b[1;32mreturn\u001b[0m \u001b[0mself\u001b[0m\u001b[1;33m.\u001b[0m\u001b[0mfind_element\u001b[0m\u001b[1;33m(\u001b[0m\u001b[0mby\u001b[0m\u001b[1;33m=\u001b[0m\u001b[0mBy\u001b[0m\u001b[1;33m.\u001b[0m\u001b[0mCLASS_NAME\u001b[0m\u001b[1;33m,\u001b[0m \u001b[0mvalue\u001b[0m\u001b[1;33m=\u001b[0m\u001b[0mname\u001b[0m\u001b[1;33m)\u001b[0m\u001b[1;33m\u001b[0m\u001b[0m\n\u001b[0m\u001b[0;32m    411\u001b[0m \u001b[1;33m\u001b[0m\u001b[0m\n\u001b[0;32m    412\u001b[0m     \u001b[1;32mdef\u001b[0m \u001b[0mfind_elements_by_class_name\u001b[0m\u001b[1;33m(\u001b[0m\u001b[0mself\u001b[0m\u001b[1;33m,\u001b[0m \u001b[0mname\u001b[0m\u001b[1;33m)\u001b[0m\u001b[1;33m:\u001b[0m\u001b[1;33m\u001b[0m\u001b[0m\n",
      "\u001b[1;32m/root/anaconda/lib/python2.7/site-packages/selenium/webdriver/remote/webdriver.pyc\u001b[0m in \u001b[0;36mfind_element\u001b[1;34m(self, by, value)\u001b[0m\n\u001b[0;32m    742\u001b[0m                 \u001b[0mvalue\u001b[0m \u001b[1;33m=\u001b[0m \u001b[1;34m'[name=\"%s\"]'\u001b[0m \u001b[1;33m%\u001b[0m \u001b[0mvalue\u001b[0m\u001b[1;33m\u001b[0m\u001b[0m\n\u001b[0;32m    743\u001b[0m         return self.execute(Command.FIND_ELEMENT,\n\u001b[1;32m--> 744\u001b[1;33m                              {'using': by, 'value': value})['value']\n\u001b[0m\u001b[0;32m    745\u001b[0m \u001b[1;33m\u001b[0m\u001b[0m\n\u001b[0;32m    746\u001b[0m     \u001b[1;32mdef\u001b[0m \u001b[0mfind_elements\u001b[0m\u001b[1;33m(\u001b[0m\u001b[0mself\u001b[0m\u001b[1;33m,\u001b[0m \u001b[0mby\u001b[0m\u001b[1;33m=\u001b[0m\u001b[0mBy\u001b[0m\u001b[1;33m.\u001b[0m\u001b[0mID\u001b[0m\u001b[1;33m,\u001b[0m \u001b[0mvalue\u001b[0m\u001b[1;33m=\u001b[0m\u001b[0mNone\u001b[0m\u001b[1;33m)\u001b[0m\u001b[1;33m:\u001b[0m\u001b[1;33m\u001b[0m\u001b[0m\n",
      "\u001b[1;32m/root/anaconda/lib/python2.7/site-packages/selenium/webdriver/remote/webdriver.pyc\u001b[0m in \u001b[0;36mexecute\u001b[1;34m(self, driver_command, params)\u001b[0m\n\u001b[0;32m    231\u001b[0m         \u001b[0mresponse\u001b[0m \u001b[1;33m=\u001b[0m \u001b[0mself\u001b[0m\u001b[1;33m.\u001b[0m\u001b[0mcommand_executor\u001b[0m\u001b[1;33m.\u001b[0m\u001b[0mexecute\u001b[0m\u001b[1;33m(\u001b[0m\u001b[0mdriver_command\u001b[0m\u001b[1;33m,\u001b[0m \u001b[0mparams\u001b[0m\u001b[1;33m)\u001b[0m\u001b[1;33m\u001b[0m\u001b[0m\n\u001b[0;32m    232\u001b[0m         \u001b[1;32mif\u001b[0m \u001b[0mresponse\u001b[0m\u001b[1;33m:\u001b[0m\u001b[1;33m\u001b[0m\u001b[0m\n\u001b[1;32m--> 233\u001b[1;33m             \u001b[0mself\u001b[0m\u001b[1;33m.\u001b[0m\u001b[0merror_handler\u001b[0m\u001b[1;33m.\u001b[0m\u001b[0mcheck_response\u001b[0m\u001b[1;33m(\u001b[0m\u001b[0mresponse\u001b[0m\u001b[1;33m)\u001b[0m\u001b[1;33m\u001b[0m\u001b[0m\n\u001b[0m\u001b[0;32m    234\u001b[0m             response['value'] = self._unwrap_value(\n\u001b[0;32m    235\u001b[0m                 response.get('value', None))\n",
      "\u001b[1;32m/root/anaconda/lib/python2.7/site-packages/selenium/webdriver/remote/errorhandler.pyc\u001b[0m in \u001b[0;36mcheck_response\u001b[1;34m(self, response)\u001b[0m\n\u001b[0;32m    192\u001b[0m         \u001b[1;32melif\u001b[0m \u001b[0mexception_class\u001b[0m \u001b[1;33m==\u001b[0m \u001b[0mUnexpectedAlertPresentException\u001b[0m \u001b[1;32mand\u001b[0m \u001b[1;34m'alert'\u001b[0m \u001b[1;32min\u001b[0m \u001b[0mvalue\u001b[0m\u001b[1;33m:\u001b[0m\u001b[1;33m\u001b[0m\u001b[0m\n\u001b[0;32m    193\u001b[0m             \u001b[1;32mraise\u001b[0m \u001b[0mexception_class\u001b[0m\u001b[1;33m(\u001b[0m\u001b[0mmessage\u001b[0m\u001b[1;33m,\u001b[0m \u001b[0mscreen\u001b[0m\u001b[1;33m,\u001b[0m \u001b[0mstacktrace\u001b[0m\u001b[1;33m,\u001b[0m \u001b[0mvalue\u001b[0m\u001b[1;33m[\u001b[0m\u001b[1;34m'alert'\u001b[0m\u001b[1;33m]\u001b[0m\u001b[1;33m.\u001b[0m\u001b[0mget\u001b[0m\u001b[1;33m(\u001b[0m\u001b[1;34m'text'\u001b[0m\u001b[1;33m)\u001b[0m\u001b[1;33m)\u001b[0m\u001b[1;33m\u001b[0m\u001b[0m\n\u001b[1;32m--> 194\u001b[1;33m         \u001b[1;32mraise\u001b[0m \u001b[0mexception_class\u001b[0m\u001b[1;33m(\u001b[0m\u001b[0mmessage\u001b[0m\u001b[1;33m,\u001b[0m \u001b[0mscreen\u001b[0m\u001b[1;33m,\u001b[0m \u001b[0mstacktrace\u001b[0m\u001b[1;33m)\u001b[0m\u001b[1;33m\u001b[0m\u001b[0m\n\u001b[0m\u001b[0;32m    195\u001b[0m \u001b[1;33m\u001b[0m\u001b[0m\n\u001b[0;32m    196\u001b[0m     \u001b[1;32mdef\u001b[0m \u001b[0m_value_or_default\u001b[0m\u001b[1;33m(\u001b[0m\u001b[0mself\u001b[0m\u001b[1;33m,\u001b[0m \u001b[0mobj\u001b[0m\u001b[1;33m,\u001b[0m \u001b[0mkey\u001b[0m\u001b[1;33m,\u001b[0m \u001b[0mdefault\u001b[0m\u001b[1;33m)\u001b[0m\u001b[1;33m:\u001b[0m\u001b[1;33m\u001b[0m\u001b[0m\n",
      "\u001b[1;31mInvalidSelectorException\u001b[0m: Message: The given selector icon-xl icon-image is either invalid or does not result in a WebElement. The following error occurred:\nInvalidSelectorError: Compound class names not permitted\nStacktrace:\n    at FirefoxDriver.annotateInvalidSelectorError_ (file:///tmp/tmpgQxFNO/extensions/fxdriver@googlecode.com/components/driver-component.js:10744)\n    at FirefoxDriver.prototype.findElementInternal_ (file:///tmp/tmpgQxFNO/extensions/fxdriver@googlecode.com/components/driver-component.js:10775)\n    at FirefoxDriver.prototype.findElement (file:///tmp/tmpgQxFNO/extensions/fxdriver@googlecode.com/components/driver-component.js:10779)\n    at DelayedCommand.prototype.executeInternal_/h (file:///tmp/tmpgQxFNO/extensions/fxdriver@googlecode.com/components/command-processor.js:12661)\n    at DelayedCommand.prototype.executeInternal_ (file:///tmp/tmpgQxFNO/extensions/fxdriver@googlecode.com/components/command-processor.js:12666)\n    at DelayedCommand.prototype.execute/< (file:///tmp/tmpgQxFNO/extensions/fxdriver@googlecode.com/components/command-processor.js:12608)"
     ]
    }
   ],
   "source": [
    "#ping_from_contacts()\n",
    "send_imageimage(\"gurunath\")"
   ]
  },
  {
   "cell_type": "markdown",
   "metadata": {},
   "source": [
    "pragma table_info(messages);\n",
    "This pragma returns one row for each column in the named table. Columns in the result set include the column name, \n",
    "data type, whether or not the column can be NULL, and the default value for the column.\n",
    "The \"pk\" column in the result set is zero for columns that are not part of the primary key,\n",
    "and is the index of the column in the primary key for columns that are part of the primary key.\n",
    "0|_id|INTEGER|0||1 \n",
    "1|key_remote_jid|TEXT|1||0\n",
    "2|key_from_me|INTEGER|0||0\n",
    "3|key_id|TEXT|1||0\n",
    "4|status|INTEGER|0||0\n",
    "5|needs_push|INTEGER|0||0\n",
    "6|data|TEXT|0||0\n",
    "7|timestamp|INTEGER|0||0 - received/sent msg time.\n",
    "8|media_url|TEXT|0||0\n",
    "9|media_mime_type|TEXT|0||0\n",
    "10|media_wa_type|TEXT|0||0\n",
    "11|media_size|INTEGER|0||0\n",
    "12|media_name|TEXT|0||0\n",
    "13|media_caption|TEXT|0||0\n",
    "14|media_hash|TEXT|0||0\n",
    "15|media_duration|INTEGER|0||0\n",
    "16|origin|INTEGER|0||0\n",
    "17|latitude|REAL|0||0 - 0.0\n",
    "18|longitude|REAL|0||0 - 0.0\n",
    "19|thumb_image|TEXT|0||0\n",
    "20|remote_resource|TEXT|0||0\n",
    "21|received_timestamp|INTEGER|0||0\n",
    "22|send_timestamp|INTEGER|0||0\n",
    "23|receipt_server_timestamp|INTEGER|0||0 -  time when reached server.\n",
    "24|receipt_device_timestamp|INTEGER|0||0 - (-1) if we receive msg.\n",
    "25|read_device_timestamp|INTEGER|0||0 -  (-1) if we receive msg.\n",
    "26|played_device_timestamp|INTEGER|0||0\n",
    "27|raw_data|BLOB|0||0\n",
    "28|recipient_count|INTEGER|0||0\n",
    "29|participant_hash|TEXT|0||0\n",
    "30|starred|INTEGER|0||0\n",
    "31|quoted_row_id|INTEGER|0||0\n"
   ]
  },
  {
   "cell_type": "markdown",
   "metadata": {
    "collapsed": true
   },
   "source": [
    "insert into messages (_id,key_remote_jid,key_from_me,key_id,status,needs_push,data,timestamp,media_url,media_mime_type,media_wa_type,media_size,media_name,media_caption,media_hash,media_duration,origin,latitude,longitude,thumb_image,remote_resource,received_timestamp,send_timestamp,receipt_server_timestamp,receipt_device_timestamp,read_device_timestamp,played_device_timestamp,raw_data,recipient_count,participant_hash,starred,quoted_row_id) values (5964,'917382227585@s.whatsapp.net',0,'3EB0353D9E15072D5F9D',0,0,'tarvatha msg chestha',1467172270000,,,0,0,,,,0,0,0.0,0.0,,,1467172270283,-1,-1,-1,,,,0,,,0);\n",
    "insert into messages (_id,key_remote_jid,key_from_me,key_id,status,needs_push,data,timestamp,media_url,media_mime_type,media_wa_type,media_size,media_name,media_caption,media_hash,media_duration,origin,latitude,longitude,thumb_image,remote_resource,received_timestamp,send_timestamp,receipt_server_timestamp,receipt_device_timestamp,read_device_timestamp,played_device_timestamp,raw_data,recipient_count,participant_hash,starred,quoted_row_id) values (5966,'917382227585@s.whatsapp.net',0,'3EB0353D9E150M2D5F9D',0,0,'tarvatha msg chestha',1467172270000,'','',0,0,'','','',0,0,0.0,0.0,'','',1467172270283,-1,-1,-1,'','','',0,'','',0);\n",
    "\n",
    "\n",
    "(_id,key_remote_jid,key_from_me,key_id,status,needs_push,data,timestamp,media_url,media_mime_type,media_wa_type,media_size,media_name,media_caption,media_hash,media_duration,origin,latitude,longitude,thumb_image,remote_resource,received_timestamp,send_timestamp,receipt_server_timestamp,receipt_device_timestamp,read_device_timestamp,played_device_timestamp,raw_data,recipient_count,participant_hash,starred,quoted_row_id)\n"
   ]
  },
  {
   "cell_type": "markdown",
   "metadata": {},
   "source": []
  }
 ],
 "metadata": {
  "kernelspec": {
   "display_name": "Python 2",
   "language": "python",
   "name": "python2"
  },
  "language_info": {
   "codemirror_mode": {
    "name": "ipython",
    "version": 2
   },
   "file_extension": ".py",
   "mimetype": "text/x-python",
   "name": "python",
   "nbconvert_exporter": "python",
   "pygments_lexer": "ipython2",
   "version": "2.7.11"
  }
 },
 "nbformat": 4,
 "nbformat_minor": 0
}
